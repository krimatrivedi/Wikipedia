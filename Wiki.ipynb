{
  "nbformat": 4,
  "nbformat_minor": 0,
  "metadata": {
    "colab": {
      "name": "Wiki.ipynb",
      "provenance": [],
      "collapsed_sections": [],
      "authorship_tag": "ABX9TyPGO6fWU3T2TwmKUawt2myk",
      "include_colab_link": true
    },
    "kernelspec": {
      "name": "python3",
      "display_name": "Python 3"
    },
    "language_info": {
      "name": "python"
    }
  },
  "cells": [
    {
      "cell_type": "markdown",
      "metadata": {
        "id": "view-in-github",
        "colab_type": "text"
      },
      "source": [
        "<a href=\"https://colab.research.google.com/github/krimatrivedi/Wikipedia/blob/main/Wiki.ipynb\" target=\"_parent\"><img src=\"https://colab.research.google.com/assets/colab-badge.svg\" alt=\"Open In Colab\"/></a>"
      ]
    },
    {
      "cell_type": "code",
      "execution_count": null,
      "metadata": {
        "id": "H4eNIKxo3q3E"
      },
      "outputs": [],
      "source": [
        "import pandas as pd # library for data analysis\n",
        "import requests # library to handle requests\n",
        "from bs4 import BeautifulSoup # library to parse HTML documents"
      ]
    },
    {
      "cell_type": "code",
      "source": [
        "NBA_data_scraped = pd.read_html('https://en.wikipedia.org/wiki/List_of_Acts_of_the_Parliament_of_India')\n",
        "data = NBA_data_scraped[7]\n",
        "\n",
        "data\n"
      ],
      "metadata": {
        "id": "c7t4a6oKY3Rt"
      },
      "execution_count": null,
      "outputs": []
    },
    {
      "cell_type": "code",
      "source": [
        "#data1 = data.drop(data.columns[[2,3,4]], axis=1)\n",
        "data1 = data.iloc[:,:2]\n",
        "\n",
        "print(data1)\n",
        "#pd.set_option('display.max_rows', None)\n"
      ],
      "metadata": {
        "id": "17JjcqQEcqX4"
      },
      "execution_count": null,
      "outputs": []
    },
    {
      "cell_type": "code",
      "source": [
        "#result = data1.iloc[2]\n",
        "result = data1.loc[data1['Year'] == 1959,[\"Name of the act\"]]\n",
        "\n",
        "print(result)\n",
        "result.to_csv(r'pandas.txt', header=None, index=None)\n"
      ],
      "metadata": {
        "colab": {
          "base_uri": "https://localhost:8080/"
        },
        "id": "pwcpvRZJeOzs",
        "outputId": "847cd04a-8b4b-4666-d4a5-d5a3e3ec0222"
      },
      "execution_count": null,
      "outputs": [
        {
          "output_type": "stream",
          "name": "stdout",
          "text": [
            "                                       Name of the act\n",
            "130    Parliament (Prevention of Disqualification) Act\n",
            "131                     Cost and Works Accountants Act\n",
            "132         Public Wakfs (Extension of Limitation) Act\n",
            "133  Employment Exchanges (Compulsory Notification ...\n",
            "134         State Bank of India (Subsidiary Banks) Act\n",
            "135  Travancore-Cochin Vehicles Taxation (Amendment...\n",
            "136                Government Savings Certificates Act\n",
            "137  Rajasthan and Madhya Pradesh (Transfer of Terr...\n",
            "138        Miscellaneous Personal Laws (Extension) Act\n",
            "139                                           Arms Act\n",
            "140  Andhra Pradesh and Madras Alteration of Bounda...\n",
            "141                   Indian Statistical Institute Act\n",
            "142           Married Women's Property (Extension) Act\n"
          ]
        }
      ]
    }
  ]
}